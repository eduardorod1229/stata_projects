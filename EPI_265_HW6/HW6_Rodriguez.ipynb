{
 "cells": [
  {
   "cell_type": "markdown",
   "id": "751f934b-544a-40b8-9f28-aaaea0e639d9",
   "metadata": {},
   "source": [
    "# Homework 6 (Power calculations)\n",
    "## J. Eduardo Rodriguez Almaraz"
   ]
  },
  {
   "cell_type": "markdown",
   "id": "c1165452-8d4a-41eb-b9aa-8836d8ccceb5",
   "metadata": {},
   "source": [
    "### Set up the program with all the required libraries"
   ]
  },
  {
   "cell_type": "code",
   "execution_count": 1,
   "id": "93539afe-1f64-4b5b-946f-40b172ca2c88",
   "metadata": {},
   "outputs": [],
   "source": [
    "import random\n",
    "import numpy as np\n",
    "import pandas as pd\n",
    "import statistics\n",
    "from sklearn import metrics\n",
    "from sklearn.linear_model import LogisticRegression"
   ]
  },
  {
   "cell_type": "markdown",
   "id": "836aaafc-d720-4af3-acf6-fcd0a7254a0e",
   "metadata": {},
   "source": [
    "### Set all the necessary parameters using the values from the paper\n",
    "\n",
    "* The prevalence of homozygosity of the allele is 0.09 (based on a minor allele frequency of 0.3: 0.3*0.3=0.09). \n"
   ]
  },
  {
   "cell_type": "code",
   "execution_count": 2,
   "id": "6686f37d-b2e3-42aa-a32d-c52086820a3c",
   "metadata": {},
   "outputs": [],
   "source": [
    "prev_hmz = 0.09"
   ]
  },
  {
   "cell_type": "markdown",
   "id": "7ec58da0-753c-4d9f-a9c0-f6fb27841b94",
   "metadata": {},
   "source": [
    "We will create our sample size here.\\\n",
    "For this example we will use a sample size of 25 but the main program will be customizable"
   ]
  },
  {
   "cell_type": "code",
   "execution_count": 3,
   "id": "3c4ce3de-af3e-4f67-b3e8-6efa01002901",
   "metadata": {},
   "outputs": [],
   "source": [
    "sample_size = 250"
   ]
  },
  {
   "cell_type": "markdown",
   "id": "9a01c41a-f4f7-4341-8ed4-b9837d39dcee",
   "metadata": {},
   "source": [
    "* The mean of CRP for people who are not hozygotes is 2.01(SD=2.09)\n",
    "\n",
    "We will create a random distribution using these two parameters"
   ]
  },
  {
   "cell_type": "code",
   "execution_count": 4,
   "id": "9f561b81-3555-4768-8109-0d7e0d20b56a",
   "metadata": {},
   "outputs": [],
   "source": [
    "random.seed(44)\n",
    "crp_mean = 2.01\n",
    "crp_sd = 2.09\n",
    "\n",
    "#This function takes the arguments: mean, SD, and n to create the distribution\n",
    "crp_dist = np.random.normal(crp_mean, crp_sd, sample_size)"
   ]
  },
  {
   "cell_type": "markdown",
   "id": "60e99e79-1917-4ad7-8644-1f544059ef5c",
   "metadata": {},
   "source": [
    "* The type I error rate is = 0.05"
   ]
  },
  {
   "cell_type": "code",
   "execution_count": 5,
   "id": "f09ee0fc-f5f7-4c6d-b903-8cf5ee1f7a69",
   "metadata": {},
   "outputs": [],
   "source": [
    "alpha_lvl = 0.05"
   ]
  },
  {
   "cell_type": "markdown",
   "id": "2f9d1693-620a-43d4-970c-f0e7f917e42b",
   "metadata": {},
   "source": [
    "With this parameters now we can create a simulation.\n",
    "\n",
    "The first step is to create a list of random uniformly distributed numbers where the lenght of the list is the same as the sample size.\n",
    "\n"
   ]
  },
  {
   "cell_type": "code",
   "execution_count": 6,
   "id": "eac85050-01f3-4720-a600-691db34c9b84",
   "metadata": {},
   "outputs": [],
   "source": [
    "#Creates an empty list\n",
    "randomlist = []\n",
    "\n",
    "# Appends the list created above with a uniformly distributed rnadom number between 0 and 1 rounding to the 4th decimal place\n",
    "for i in range(0,sample_size):\n",
    "    n = round(random.uniform(0.0001,.9999),4)\n",
    "    randomlist.append(n)"
   ]
  },
  {
   "cell_type": "markdown",
   "id": "1d20eb24-ca3d-46de-8847-af2115fe2e3d",
   "metadata": {},
   "source": [
    "*If you want to check the list uncomment the line below*"
   ]
  },
  {
   "cell_type": "code",
   "execution_count": 7,
   "id": "8979fffd-5643-4bee-8315-63a879f9c60f",
   "metadata": {},
   "outputs": [],
   "source": [
    "#print(randomlist)"
   ]
  },
  {
   "cell_type": "markdown",
   "id": "5e5d738e-375e-4457-a742-585bfe6d1b06",
   "metadata": {},
   "source": [
    "Now lets create a list of values based on the prevalence of homozygosity of the allele using a similar process as above"
   ]
  },
  {
   "cell_type": "code",
   "execution_count": 8,
   "id": "1f89f926-c0c2-4f16-9a9a-51fc178eca06",
   "metadata": {},
   "outputs": [],
   "source": [
    "all_hz = []\n",
    "for n in randomlist:\n",
    "    if n<prev_hmz:\n",
    "        all_hz.append(1)\n",
    "    else:\n",
    "        all_hz.append(0)\n",
    "        \n",
    "        "
   ]
  },
  {
   "cell_type": "markdown",
   "id": "03b65802-f36a-4d6a-b658-5ccef10e65ff",
   "metadata": {},
   "source": [
    "*If you want to check the list uncomment the line below. You also can check that both lists are the same lenght*"
   ]
  },
  {
   "cell_type": "code",
   "execution_count": 9,
   "id": "0873abb6-2142-4100-a997-ce73982f072c",
   "metadata": {},
   "outputs": [],
   "source": [
    "#print(all_hz)        \n",
    "#len(all_hz)\n",
    "#len(randomlist)"
   ]
  },
  {
   "cell_type": "markdown",
   "id": "6264269c-ba80-4d07-b5f3-c1480e868a35",
   "metadata": {},
   "source": [
    "Just to checek that the prevalence is close to the original 0.09. \n",
    "\n",
    "However, since we created random numbers it will not be exactly 0.09"
   ]
  },
  {
   "cell_type": "code",
   "execution_count": 10,
   "id": "35d22e76-cf70-49af-ba27-fc4ccdc8a825",
   "metadata": {},
   "outputs": [
    {
     "name": "stdout",
     "output_type": "stream",
     "text": [
      "The prevalence of Homozygocity for this allele is 0.12\n"
     ]
    }
   ],
   "source": [
    "print(\"The prevalence of Homozygocity for this allele is\", round(all_hz.count(1)/sample_size,2))"
   ]
  },
  {
   "cell_type": "markdown",
   "id": "842e90a1-19b5-4a9f-a482-c3e3f6185bac",
   "metadata": {},
   "source": [
    "Now lets put everything together on a more legible dataframe"
   ]
  },
  {
   "cell_type": "code",
   "execution_count": 11,
   "id": "d447c941-95ff-4b86-ac96-cfc915210b6a",
   "metadata": {},
   "outputs": [
    {
     "data": {
      "text/html": [
       "<div>\n",
       "<style scoped>\n",
       "    .dataframe tbody tr th:only-of-type {\n",
       "        vertical-align: middle;\n",
       "    }\n",
       "\n",
       "    .dataframe tbody tr th {\n",
       "        vertical-align: top;\n",
       "    }\n",
       "\n",
       "    .dataframe thead th {\n",
       "        text-align: right;\n",
       "    }\n",
       "</style>\n",
       "<table border=\"1\" class=\"dataframe\">\n",
       "  <thead>\n",
       "    <tr style=\"text-align: right;\">\n",
       "      <th></th>\n",
       "      <th>Allele_hz</th>\n",
       "      <th>CRP_distrib</th>\n",
       "    </tr>\n",
       "  </thead>\n",
       "  <tbody>\n",
       "    <tr>\n",
       "      <th>0</th>\n",
       "      <td>0</td>\n",
       "      <td>0.759967</td>\n",
       "    </tr>\n",
       "    <tr>\n",
       "      <th>1</th>\n",
       "      <td>0</td>\n",
       "      <td>2.262789</td>\n",
       "    </tr>\n",
       "    <tr>\n",
       "      <th>2</th>\n",
       "      <td>0</td>\n",
       "      <td>1.613854</td>\n",
       "    </tr>\n",
       "    <tr>\n",
       "      <th>3</th>\n",
       "      <td>0</td>\n",
       "      <td>6.918580</td>\n",
       "    </tr>\n",
       "    <tr>\n",
       "      <th>4</th>\n",
       "      <td>0</td>\n",
       "      <td>1.695753</td>\n",
       "    </tr>\n",
       "  </tbody>\n",
       "</table>\n",
       "</div>"
      ],
      "text/plain": [
       "   Allele_hz  CRP_distrib\n",
       "0          0     0.759967\n",
       "1          0     2.262789\n",
       "2          0     1.613854\n",
       "3          0     6.918580\n",
       "4          0     1.695753"
      ]
     },
     "execution_count": 11,
     "metadata": {},
     "output_type": "execute_result"
    }
   ],
   "source": [
    "main_df = pd.DataFrame({'Allele_hz':all_hz, 'CRP_distrib':crp_dist})\n",
    "main_df.head()"
   ]
  },
  {
   "cell_type": "code",
   "execution_count": 12,
   "id": "fdf64f73-1e15-4ee8-9f1f-a5c222eec637",
   "metadata": {},
   "outputs": [
    {
     "name": "stdout",
     "output_type": "stream",
     "text": [
      "Mean of CRP distribution among non-homozygotes 2.1716589575147154\n",
      "Standard deviation of CRP distribution among non-homozygotes 1.9975344275910492\n",
      "Median of CRP distribution among non-homozygotes 2.2055320354662875\n"
     ]
    }
   ],
   "source": [
    "print('Mean of CRP distribution among non-homozygotes',statistics.mean(crp_dist))\n",
    "print('Standard deviation of CRP distribution among non-homozygotes',statistics.stdev(crp_dist))\n",
    "print('Median of CRP distribution among non-homozygotes',statistics.median(crp_dist))\n"
   ]
  },
  {
   "cell_type": "markdown",
   "id": "38e7cc71-b40b-4159-9aed-e74c77d73795",
   "metadata": {},
   "source": [
    "Now lets work with the outcome using the information from the instructions:\n",
    "\n",
    "* The 10-year cumulative incidence of MI for people who are not homozygotes is 2.70%.\n",
    "\n",
    "Under this information we can assume that the probability of MI for Allele heterozyotes (`all_hz=0`) is 0.027"
   ]
  },
  {
   "cell_type": "code",
   "execution_count": 13,
   "id": "aa6d2ef7-c184-4daa-b5f8-de8d1d8082a7",
   "metadata": {},
   "outputs": [],
   "source": [
    "random.seed(43)\n",
    "random_y =[]\n",
    "\n",
    "for i in all_hz:\n",
    "    if i==0:\n",
    "        random_y.append(round(random.uniform(0.00001,.99999),6))\n",
    "    else:\n",
    "        random_y.append(round(random.uniform(0.00001,.9999),6))\n",
    "        "
   ]
  },
  {
   "cell_type": "markdown",
   "id": "b55cdaba-6cfb-4b1d-acbf-27d00d465443",
   "metadata": {},
   "source": [
    "*Note: Eventhough is the same formula for both conditions (i=1 and i=0) the loop is generating 2 independent random numbers in each iteration"
   ]
  },
  {
   "cell_type": "markdown",
   "id": "40e9565c-9a1c-4071-98c4-e2ea93c5e596",
   "metadata": {},
   "source": [
    "Now lets add the outcome MI based on these probability. \n",
    "The notation below states: \n",
    "* Add the `random_y` variable to the data frame\n",
    "* For Allele heterogocytes (IV=0) if `random_y` is equal or less than the prevalence create a variable with the outcome (MI) = 1\n",
    "Since we know that the  probability of having MY being heterogyzgous is 0.027 the the odds ratio:\n",
    "\n",
    "$OR=$ $\\frac{0.027}{1-0.027}$ $=0.02774923$\n",
    "\n",
    "Thus \n",
    "\n",
    "$P(Y|Allele=1) = 0.02774923^*(OR_{homozygous})$\n",
    "\n",
    "$=0.02774923 ^* 1.25 =$ **0.03468654** \n",
    "\n"
   ]
  },
  {
   "cell_type": "code",
   "execution_count": 14,
   "id": "50ea4390-f969-422c-a1dd-9b8a9a6ae6f7",
   "metadata": {},
   "outputs": [
    {
     "data": {
      "text/html": [
       "<div>\n",
       "<style scoped>\n",
       "    .dataframe tbody tr th:only-of-type {\n",
       "        vertical-align: middle;\n",
       "    }\n",
       "\n",
       "    .dataframe tbody tr th {\n",
       "        vertical-align: top;\n",
       "    }\n",
       "\n",
       "    .dataframe thead th {\n",
       "        text-align: right;\n",
       "    }\n",
       "</style>\n",
       "<table border=\"1\" class=\"dataframe\">\n",
       "  <thead>\n",
       "    <tr style=\"text-align: right;\">\n",
       "      <th></th>\n",
       "      <th>Allele_hz</th>\n",
       "      <th>CRP_distrib</th>\n",
       "      <th>random_y</th>\n",
       "      <th>MI_y</th>\n",
       "    </tr>\n",
       "  </thead>\n",
       "  <tbody>\n",
       "    <tr>\n",
       "      <th>0</th>\n",
       "      <td>0</td>\n",
       "      <td>0.759967</td>\n",
       "      <td>0.038561</td>\n",
       "      <td>0</td>\n",
       "    </tr>\n",
       "    <tr>\n",
       "      <th>1</th>\n",
       "      <td>0</td>\n",
       "      <td>2.262789</td>\n",
       "      <td>0.696220</td>\n",
       "      <td>0</td>\n",
       "    </tr>\n",
       "    <tr>\n",
       "      <th>2</th>\n",
       "      <td>0</td>\n",
       "      <td>1.613854</td>\n",
       "      <td>0.143940</td>\n",
       "      <td>0</td>\n",
       "    </tr>\n",
       "    <tr>\n",
       "      <th>3</th>\n",
       "      <td>0</td>\n",
       "      <td>6.918580</td>\n",
       "      <td>0.462533</td>\n",
       "      <td>0</td>\n",
       "    </tr>\n",
       "    <tr>\n",
       "      <th>4</th>\n",
       "      <td>0</td>\n",
       "      <td>1.695753</td>\n",
       "      <td>0.671643</td>\n",
       "      <td>0</td>\n",
       "    </tr>\n",
       "    <tr>\n",
       "      <th>5</th>\n",
       "      <td>1</td>\n",
       "      <td>4.232874</td>\n",
       "      <td>0.792874</td>\n",
       "      <td>0</td>\n",
       "    </tr>\n",
       "    <tr>\n",
       "      <th>6</th>\n",
       "      <td>0</td>\n",
       "      <td>6.893470</td>\n",
       "      <td>0.453190</td>\n",
       "      <td>0</td>\n",
       "    </tr>\n",
       "    <tr>\n",
       "      <th>7</th>\n",
       "      <td>1</td>\n",
       "      <td>2.913878</td>\n",
       "      <td>0.498227</td>\n",
       "      <td>0</td>\n",
       "    </tr>\n",
       "    <tr>\n",
       "      <th>8</th>\n",
       "      <td>0</td>\n",
       "      <td>0.539981</td>\n",
       "      <td>0.019167</td>\n",
       "      <td>1</td>\n",
       "    </tr>\n",
       "    <tr>\n",
       "      <th>9</th>\n",
       "      <td>0</td>\n",
       "      <td>2.268647</td>\n",
       "      <td>0.432390</td>\n",
       "      <td>0</td>\n",
       "    </tr>\n",
       "    <tr>\n",
       "      <th>10</th>\n",
       "      <td>0</td>\n",
       "      <td>-0.266228</td>\n",
       "      <td>0.372377</td>\n",
       "      <td>0</td>\n",
       "    </tr>\n",
       "    <tr>\n",
       "      <th>11</th>\n",
       "      <td>0</td>\n",
       "      <td>0.480839</td>\n",
       "      <td>0.852282</td>\n",
       "      <td>0</td>\n",
       "    </tr>\n",
       "    <tr>\n",
       "      <th>12</th>\n",
       "      <td>0</td>\n",
       "      <td>2.649393</td>\n",
       "      <td>0.546983</td>\n",
       "      <td>0</td>\n",
       "    </tr>\n",
       "    <tr>\n",
       "      <th>13</th>\n",
       "      <td>0</td>\n",
       "      <td>3.743292</td>\n",
       "      <td>0.755312</td>\n",
       "      <td>0</td>\n",
       "    </tr>\n",
       "    <tr>\n",
       "      <th>14</th>\n",
       "      <td>0</td>\n",
       "      <td>3.353285</td>\n",
       "      <td>0.434069</td>\n",
       "      <td>0</td>\n",
       "    </tr>\n",
       "    <tr>\n",
       "      <th>15</th>\n",
       "      <td>0</td>\n",
       "      <td>3.102386</td>\n",
       "      <td>0.176195</td>\n",
       "      <td>0</td>\n",
       "    </tr>\n",
       "    <tr>\n",
       "      <th>16</th>\n",
       "      <td>1</td>\n",
       "      <td>1.573336</td>\n",
       "      <td>0.850792</td>\n",
       "      <td>0</td>\n",
       "    </tr>\n",
       "    <tr>\n",
       "      <th>17</th>\n",
       "      <td>0</td>\n",
       "      <td>-0.786347</td>\n",
       "      <td>0.820214</td>\n",
       "      <td>0</td>\n",
       "    </tr>\n",
       "    <tr>\n",
       "      <th>18</th>\n",
       "      <td>0</td>\n",
       "      <td>3.274162</td>\n",
       "      <td>0.375861</td>\n",
       "      <td>0</td>\n",
       "    </tr>\n",
       "    <tr>\n",
       "      <th>19</th>\n",
       "      <td>0</td>\n",
       "      <td>4.416942</td>\n",
       "      <td>0.095751</td>\n",
       "      <td>0</td>\n",
       "    </tr>\n",
       "  </tbody>\n",
       "</table>\n",
       "</div>"
      ],
      "text/plain": [
       "    Allele_hz  CRP_distrib  random_y  MI_y\n",
       "0           0     0.759967  0.038561     0\n",
       "1           0     2.262789  0.696220     0\n",
       "2           0     1.613854  0.143940     0\n",
       "3           0     6.918580  0.462533     0\n",
       "4           0     1.695753  0.671643     0\n",
       "5           1     4.232874  0.792874     0\n",
       "6           0     6.893470  0.453190     0\n",
       "7           1     2.913878  0.498227     0\n",
       "8           0     0.539981  0.019167     1\n",
       "9           0     2.268647  0.432390     0\n",
       "10          0    -0.266228  0.372377     0\n",
       "11          0     0.480839  0.852282     0\n",
       "12          0     2.649393  0.546983     0\n",
       "13          0     3.743292  0.755312     0\n",
       "14          0     3.353285  0.434069     0\n",
       "15          0     3.102386  0.176195     0\n",
       "16          1     1.573336  0.850792     0\n",
       "17          0    -0.786347  0.820214     0\n",
       "18          0     3.274162  0.375861     0\n",
       "19          0     4.416942  0.095751     0"
      ]
     },
     "execution_count": 14,
     "metadata": {},
     "output_type": "execute_result"
    }
   ],
   "source": [
    "main_df['random_y']= random_y\n",
    "main_df['MI_y'] = np.where((main_df['Allele_hz']==0) & (main_df['random_y']<0.027) | (main_df['Allele_hz']==1) & (main_df['random_y']<0.03468654),1,0)\n",
    "main_df.head(20)"
   ]
  },
  {
   "cell_type": "code",
   "execution_count": 15,
   "id": "1f0f3f69-59d2-4bf0-b3ef-5e7c90ff8a83",
   "metadata": {},
   "outputs": [
    {
     "name": "stdout",
     "output_type": "stream",
     "text": [
      "Incidence of outcome among Allele Hz=0 0.02\n",
      "Incidence of outcome among Allele Hz=1 0.004\n",
      "\n",
      "MI_y         0  1\n",
      "Allele_hz        \n",
      "0          215  5\n",
      "1           29  1\n"
     ]
    }
   ],
   "source": [
    "print('Incidence of outcome among Allele Hz=0', len(main_df.loc[(main_df['Allele_hz']==0) & (main_df['MI_y']==1), ['Allele_hz','MI_y']])/sample_size)\n",
    "print('Incidence of outcome among Allele Hz=1', len(main_df.loc[(main_df['Allele_hz']==1) & (main_df['MI_y']==1), ['Allele_hz','MI_y']])/sample_size)\\\n",
    "\n",
    "\n",
    "table = pd.crosstab(main_df['Allele_hz'], main_df['MI_y'])\n",
    "print('')\n",
    "\n",
    "print(table)"
   ]
  },
  {
   "cell_type": "markdown",
   "id": "7d66bc3f-8b0a-439d-b6a1-1b0a8610aa20",
   "metadata": {},
   "source": [
    "## Creating Models to predict\n",
    "\n",
    "### We will use the two-stage model process\n",
    "\n",
    "### First Stage-model\n",
    "\n",
    "We need two coefficients:\n",
    "\n",
    "* $\\hat{\\beta}_{Y|Z}$\n",
    "\n",
    "And\n",
    "* $\\hat{\\beta}_{X|Z}$\n",
    "\n",
    "Where: \n",
    "\n",
    "**Y= MI**\n",
    "\n",
    "**Z = Allele homogygocity**\n",
    "\n",
    "**X = CRP**\n",
    "\n",
    "Lets begin by regressing the IV (`allele_hz`) on the exposure (`crp`):"
   ]
  },
  {
   "cell_type": "markdown",
   "id": "34352424-6b28-4def-8948-0628cd4a3295",
   "metadata": {},
   "source": [
    "Creates all of our variables to be used in the model"
   ]
  },
  {
   "cell_type": "code",
   "execution_count": 16,
   "id": "e347bc31-6d73-4a13-acae-cbd3880c1885",
   "metadata": {},
   "outputs": [],
   "source": [
    "y = np.array(main_df['MI_y'])\n",
    "x = np.array(main_df['CRP_distrib'])\n",
    "z = np.array(main_df['Allele_hz'])"
   ]
  },
  {
   "cell_type": "markdown",
   "id": "65511d9e-0d45-4ade-8e92-b885f4ee08c8",
   "metadata": {},
   "source": [
    "## First-stage model\n",
    "\n",
    "* Initialize the model\n",
    "* Fit the model. The first argument is the outcome and the second is the predictor. In this case we are regressing Allele on CRP\n",
    "* Predict the values of CRP (X). A list has been created The last line checks that is the same size as the dataset"
   ]
  },
  {
   "cell_type": "code",
   "execution_count": 17,
   "id": "6b5353ba-d15f-4968-9089-05a32611b4ba",
   "metadata": {},
   "outputs": [
    {
     "data": {
      "text/plain": [
       "250"
      ]
     },
     "execution_count": 17,
     "metadata": {},
     "output_type": "execute_result"
    }
   ],
   "source": [
    "import statsmodels.api as sm\n",
    "import statsmodels.formula.api as smf\n",
    "#from sklearn.linear_model import LogisticRegression\n",
    "#from sklearn import metrics\n",
    "\n",
    "model_x_z = smf.ols(formula = \"CRP_distrib~Allele_hz\",\n",
    "                data= main_df).fit()\n",
    "\n",
    "#z_pred = model_x_z.predict(x)\n",
    "z_pred = model_x_z.predict()\n",
    "main_df['z_pred'] = z_pred\n",
    "model_x_z.params\n",
    "len(z_pred)\n"
   ]
  },
  {
   "cell_type": "markdown",
   "id": "8db92d9f-55dc-4bd6-93cb-dee0e5c87a30",
   "metadata": {},
   "source": [
    "Now we will fit a model to estimate the outcome using first our IV to check that the OR is close to the original one of 1.25"
   ]
  },
  {
   "cell_type": "code",
   "execution_count": 18,
   "id": "b4e22bb3-6d55-402b-a6bb-742ccb934665",
   "metadata": {},
   "outputs": [
    {
     "name": "stdout",
     "output_type": "stream",
     "text": [
      "                 Generalized Linear Model Regression Results                  \n",
      "==============================================================================\n",
      "Dep. Variable:                   MI_y   No. Observations:                  250\n",
      "Model:                            GLM   Df Residuals:                      248\n",
      "Model Family:                Binomial   Df Model:                            1\n",
      "Link Function:                  logit   Scale:                          1.0000\n",
      "Method:                          IRLS   Log-Likelihood:                -28.248\n",
      "Date:                Thu, 27 May 2021   Deviance:                       56.496\n",
      "Time:                        00:34:00   Pearson chi2:                     250.\n",
      "No. Iterations:                     7                                         \n",
      "Covariance Type:            nonrobust                                         \n",
      "==============================================================================\n",
      "                 coef    std err          z      P>|z|      [0.025      0.975]\n",
      "------------------------------------------------------------------------------\n",
      "Intercept     -3.7612      0.452     -8.314      0.000      -4.648      -2.875\n",
      "Allele_hz      0.3939      1.113      0.354      0.723      -1.788       2.576\n",
      "==============================================================================\n",
      "\n",
      "The OR that results from the model above is: 1.4827586206896568\n"
     ]
    }
   ],
   "source": [
    "import statsmodels.api as sm\n",
    "from statsmodels.formula.api import glm\n",
    "\n",
    "model_z_y = glm(formula = 'MI_y~Allele_hz',\n",
    "                data=main_df,\n",
    "               family = sm.families.Binomial()).fit()\n",
    "\n",
    "print(model_z_y.summary())\n",
    "print('')\n",
    "print('The OR that results from the model above is:',np.exp(model_z_y.params[1]))"
   ]
  },
  {
   "cell_type": "markdown",
   "id": "f336eb32-2432-42d0-aa3d-9ab03e151064",
   "metadata": {},
   "source": [
    "**This looks good!!!                          ^**"
   ]
  },
  {
   "cell_type": "markdown",
   "id": "1744e3ed-bc30-44d4-9e82-b66bef122872",
   "metadata": {},
   "source": [
    "## Second-Stage model\n",
    "\n",
    "We just fit a logistic regression of the predicted exposures that we stored in `z_pred` on the actual outcome"
   ]
  },
  {
   "cell_type": "code",
   "execution_count": 19,
   "id": "3818473c-3a37-47ea-8cd8-5b5d7c42db78",
   "metadata": {},
   "outputs": [
    {
     "name": "stdout",
     "output_type": "stream",
     "text": [
      "                 Generalized Linear Model Regression Results                  \n",
      "==============================================================================\n",
      "Dep. Variable:                   MI_y   No. Observations:                  250\n",
      "Model:                            GLM   Df Residuals:                      248\n",
      "Model Family:                Binomial   Df Model:                            1\n",
      "Link Function:                  logit   Scale:                          1.0000\n",
      "Method:                          IRLS   Log-Likelihood:                -28.248\n",
      "Date:                Thu, 27 May 2021   Deviance:                       56.496\n",
      "Time:                        00:34:00   Pearson chi2:                     250.\n",
      "No. Iterations:                     7                                         \n",
      "Covariance Type:            nonrobust                                         \n",
      "==============================================================================\n",
      "                 coef    std err          z      P>|z|      [0.025      0.975]\n",
      "------------------------------------------------------------------------------\n",
      "Intercept     -0.5867      8.797     -0.067      0.947     -17.828      16.655\n",
      "z_pred        -1.4400      4.069     -0.354      0.723      -9.416       6.536\n",
      "==============================================================================\n"
     ]
    }
   ],
   "source": [
    "from statsmodels.formula.api import glm\n",
    "model_zpred_y = glm(formula = 'MI_y~z_pred',\n",
    "                data=main_df,\n",
    "               family = sm.families.Binomial()).fit()\n",
    "\n",
    "zpred_y = model_zpred_y.predict()\n",
    "print(model_zpred_y.summary())\n"
   ]
  },
  {
   "cell_type": "code",
   "execution_count": 20,
   "id": "c7cccf36-5c27-4642-a38a-2db595eff468",
   "metadata": {},
   "outputs": [
    {
     "data": {
      "text/plain": [
       "False"
      ]
     },
     "execution_count": 20,
     "metadata": {},
     "output_type": "execute_result"
    }
   ],
   "source": [
    "h1 = (model_zpred_y.pvalues[1])<0.05\n",
    "h1\n",
    "#model_zpred_y.conf_int(cols=[0,0])"
   ]
  },
  {
   "cell_type": "code",
   "execution_count": 21,
   "id": "e8427e80-a754-4a77-b715-6c9bf6d6e289",
   "metadata": {},
   "outputs": [
    {
     "data": {
      "text/plain": [
       "-1.4400075709687625"
      ]
     },
     "execution_count": 21,
     "metadata": {},
     "output_type": "execute_result"
    }
   ],
   "source": [
    "model_zpred_y.params[1]"
   ]
  },
  {
   "cell_type": "markdown",
   "id": "623c52f4-4d7d-4c9c-9d90-b92c7433c578",
   "metadata": {},
   "source": [
    "### Simulations"
   ]
  },
  {
   "cell_type": "markdown",
   "id": "e851332a-b095-4e24-aac1-edd3cb21b644",
   "metadata": {},
   "source": [
    "For simulations we neeed to compile all the code above and set 2 parameters: \n",
    "\n",
    "* The number of times we want to run out code\n",
    "\n",
    "* The sample sizes that we want to use for each simulation\n",
    "\n",
    "The code below will show the same that we did above but 'enclosed' on a function."
   ]
  },
  {
   "cell_type": "code",
   "execution_count": 22,
   "id": "7e8c2acc-fc17-4b1d-b4bb-98767ccab665",
   "metadata": {},
   "outputs": [],
   "source": [
    "     \n",
    "def _power_calculation_ (nobs):\n",
    "    random.seed(44)\n",
    "    prev_hmz = 0.09\n",
    "    sample_size = nobs\n",
    "    crp_mean = 2.01\n",
    "    crp_sd = 2.09\n",
    "    crp_dist = np.random.normal(crp_mean, crp_sd, sample_size)\n",
    "    alpha_lvl = 0.05\n",
    "    randomlist = []\n",
    "    for i in range(0,sample_size):\n",
    "        n = round(random.uniform(0.0001,.9999),4)\n",
    "        randomlist.append(n)\n",
    "\n",
    "    all_hz = []\n",
    "    for n in randomlist:\n",
    "        if n<prev_hmz:\n",
    "            all_hz.append(1)\n",
    "        else:\n",
    "            all_hz.append(0)\n",
    "\n",
    "    main_df = pd.DataFrame({'Allele_hz':all_hz, 'CRP_distrib':crp_dist})\n",
    "    random_y =[]\n",
    "\n",
    "    for i in all_hz:\n",
    "        if i==0:\n",
    "            random_y.append(round(random.uniform(0.00001,.99999),6))\n",
    "        else:\n",
    "            random_y.append(round(random.uniform(0.00001,.9999),6))\n",
    "\n",
    "    main_df['random_y']= random_y\n",
    "    main_df['MI_y'] = np.where((main_df['Allele_hz']==0) & (main_df['random_y']<0.027) | (main_df['Allele_hz']==1) & (main_df['random_y']<0.03468654),1,0)\n",
    "\n",
    "    model_x_z = smf.ols(formula = \"CRP_distrib~Allele_hz\",\n",
    "                data= main_df).fit()\n",
    "\n",
    "\n",
    "    z_pred = model_x_z.predict()\n",
    "    main_df['z_pred'] = z_pred\n",
    "    model_z_y = glm(formula = 'MI_y~Allele_hz',\n",
    "                data=main_df,\n",
    "               family = sm.families.Binomial()).fit()\n",
    "\n",
    "    model_zpred_y = glm(formula = 'MI_y~z_pred',\n",
    "                data=main_df,\n",
    "               family = sm.families.Binomial()).fit()\n",
    "\n",
    "    zpred_y = model_zpred_y.predict()\n",
    "    coefficients = model_zpred_y.params[1]\n",
    "    h1 = (model_zpred_y.pvalues[1])<0.05\n",
    "    conf_int = model_zpred_y.conf_int(alpha=0.05)\n",
    "    \n",
    "    \n",
    "    return dict({'coefficients':coefficients,'H1 rejected':h1, 'Confidence interval':conf_int})\n",
    "\n",
    "#Defines a function that takes two arguments: Number of simulations and number of observations\n",
    "\n",
    "\n",
    "def pwr(sims, obs):\n",
    "    #Creates empy lists to be appended to then itterate trhough them\n",
    "    alt_hyp = []\n",
    "    beta = []\n",
    "    conf_int = []\n",
    "    for i in range(sims):\n",
    "        pwr_test = _power_calculation_(obs)\n",
    "        alt_hyp.append(pwr_test['H1 rejected'])\n",
    "        conf_int.append(pwr_test['Confidence interval'])\n",
    "        beta.append(pwr_test['coefficients'])\n",
    "\n",
    "\n",
    "    print('With',sims,'simulations and',obs, 'observations:')\n",
    "    print('')\n",
    "    \n",
    "    #The list alt_hyp is a logical list that takes values of 0 and 1 where 1 is true, thus if\n",
    "    #more than half of the simulations reject the null we call the pool 'True'\n",
    "    if np.average(alt_hyp)>0.5:\n",
    "        print('Null rejected')\n",
    "    else:\n",
    "        print('Fail to reject null')\n",
    "\n",
    "        #Prints the average of the coefficients...Not sure how to pool the confidence intervals although, they are appended before.\n",
    "    print('Average OR:',np.mean(beta))\n",
    "  "
   ]
  },
  {
   "cell_type": "markdown",
   "id": "9c074f1c-9f11-4ec7-ab92-a862155ccf45",
   "metadata": {},
   "source": [
    "### Now we can try all put together\n",
    "The function `pwr` takes 2 arguments: 1) The number of simulations and 2) the number of observations...this migth take a while"
   ]
  },
  {
   "cell_type": "code",
   "execution_count": 23,
   "id": "94395426-5523-489b-ae47-d0856f109dd8",
   "metadata": {},
   "outputs": [
    {
     "name": "stdout",
     "output_type": "stream",
     "text": [
      "With 1000 simulations and 2000 observations:\n",
      "\n",
      "Null rejected\n",
      "Average OR: 1.3742869747959783\n"
     ]
    }
   ],
   "source": [
    "pwr(1000,2000)"
   ]
  }
 ],
 "metadata": {
  "kernelspec": {
   "display_name": "Python 3",
   "language": "python",
   "name": "python3"
  },
  "language_info": {
   "codemirror_mode": {
    "name": "ipython",
    "version": 3
   },
   "file_extension": ".py",
   "mimetype": "text/x-python",
   "name": "python",
   "nbconvert_exporter": "python",
   "pygments_lexer": "ipython3",
   "version": "3.7.10"
  }
 },
 "nbformat": 4,
 "nbformat_minor": 5
}
